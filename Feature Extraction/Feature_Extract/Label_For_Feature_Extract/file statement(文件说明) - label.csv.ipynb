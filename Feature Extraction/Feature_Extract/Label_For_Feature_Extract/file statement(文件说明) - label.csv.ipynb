{
 "cells": [
  {
   "cell_type": "markdown",
   "metadata": {},
   "source": [
    "# file statement（文件说明）-label.csv"
   ]
  },
  {
   "cell_type": "markdown",
   "metadata": {},
   "source": [
    "The ground truth is manually annotated by Qi’anxin researchers and contains 952 malicious domains, which can be divided into 9 malicious domain families according to malicious activities. We give a summary of the label data below."
   ]
  },
  {
   "cell_type": "markdown",
   "metadata": {},
   "source": [
    "Ground Truth 由奇安信研究人员人工标注，包含 952 个恶意域，根据恶意活动可分为 9 个恶意域家族。我们在下面给出了标签数据的摘要。\n"
   ]
  },
  {
   "cell_type": "markdown",
   "metadata": {},
   "source": [
    "## 1. label.csv"
   ]
  },
  {
   "cell_type": "code",
   "execution_count": 1,
   "metadata": {},
   "outputs": [
    {
     "data": {
      "text/html": [
       "<div>\n",
       "<style scoped>\n",
       "    .dataframe tbody tr th:only-of-type {\n",
       "        vertical-align: middle;\n",
       "    }\n",
       "\n",
       "    .dataframe tbody tr th {\n",
       "        vertical-align: top;\n",
       "    }\n",
       "\n",
       "    .dataframe thead th {\n",
       "        text-align: right;\n",
       "    }\n",
       "</style>\n",
       "<table border=\"1\" class=\"dataframe\">\n",
       "  <thead>\n",
       "    <tr style=\"text-align: right;\">\n",
       "      <th></th>\n",
       "      <th>family_no</th>\n",
       "      <th>encoded_fqdn</th>\n",
       "      <th>fqdn_no</th>\n",
       "    </tr>\n",
       "  </thead>\n",
       "  <tbody>\n",
       "    <tr>\n",
       "      <th>0</th>\n",
       "      <td>0</td>\n",
       "      <td>aaa[aaaa].aaaaaaa.com</td>\n",
       "      <td>fqdn_17932</td>\n",
       "    </tr>\n",
       "    <tr>\n",
       "      <th>1</th>\n",
       "      <td>0</td>\n",
       "      <td>[aaaaaa].aaaaaa.com</td>\n",
       "      <td>fqdn_10055</td>\n",
       "    </tr>\n",
       "    <tr>\n",
       "      <th>2</th>\n",
       "      <td>0</td>\n",
       "      <td>aaaa[aaaa].com</td>\n",
       "      <td>fqdn_17667</td>\n",
       "    </tr>\n",
       "    <tr>\n",
       "      <th>3</th>\n",
       "      <td>0</td>\n",
       "      <td>aaaaaaaaa.com</td>\n",
       "      <td>fqdn_20029</td>\n",
       "    </tr>\n",
       "    <tr>\n",
       "      <th>4</th>\n",
       "      <td>0</td>\n",
       "      <td>aaa[aaaaa]a.com</td>\n",
       "      <td>fqdn_16917</td>\n",
       "    </tr>\n",
       "    <tr>\n",
       "      <th>...</th>\n",
       "      <td>...</td>\n",
       "      <td>...</td>\n",
       "      <td>...</td>\n",
       "    </tr>\n",
       "    <tr>\n",
       "      <th>947</th>\n",
       "      <td>0</td>\n",
       "      <td>aa0aaaaa[aaaaaa][aaaaaa][aaaaaa]aaaaaa.a.aa-aa...</td>\n",
       "      <td>fqdn_15888</td>\n",
       "    </tr>\n",
       "    <tr>\n",
       "      <th>948</th>\n",
       "      <td>0</td>\n",
       "      <td>aaaaaaa[aaaaaa][aaaaaa][aaaaaa][aaaa]aaa.a.aa-...</td>\n",
       "      <td>fqdn_12394</td>\n",
       "    </tr>\n",
       "    <tr>\n",
       "      <th>949</th>\n",
       "      <td>0</td>\n",
       "      <td>aaaaaaa[aaaaaa][aaaaaa][aaaaaa][aaaa]aaa.a.aa-...</td>\n",
       "      <td>fqdn_10517</td>\n",
       "    </tr>\n",
       "    <tr>\n",
       "      <th>950</th>\n",
       "      <td>0</td>\n",
       "      <td>aaaaaaa[aaaaaa][aaaaaa][aaaaaa][aaaa]aaa.a.aa-...</td>\n",
       "      <td>fqdn_13050</td>\n",
       "    </tr>\n",
       "    <tr>\n",
       "      <th>951</th>\n",
       "      <td>0</td>\n",
       "      <td>aaaaaaa[aaaaaa][aaaaaa][aaaaaa]aaaaa0a.a.aa-aa...</td>\n",
       "      <td>fqdn_4139</td>\n",
       "    </tr>\n",
       "  </tbody>\n",
       "</table>\n",
       "<p>952 rows × 3 columns</p>\n",
       "</div>"
      ],
      "text/plain": [
       "     family_no                                       encoded_fqdn     fqdn_no\n",
       "0            0                              aaa[aaaa].aaaaaaa.com  fqdn_17932\n",
       "1            0                                [aaaaaa].aaaaaa.com  fqdn_10055\n",
       "2            0                                     aaaa[aaaa].com  fqdn_17667\n",
       "3            0                                      aaaaaaaaa.com  fqdn_20029\n",
       "4            0                                    aaa[aaaaa]a.com  fqdn_16917\n",
       "..         ...                                                ...         ...\n",
       "947          0  aa0aaaaa[aaaaaa][aaaaaa][aaaaaa]aaaaaa.a.aa-aa...  fqdn_15888\n",
       "948          0  aaaaaaa[aaaaaa][aaaaaa][aaaaaa][aaaa]aaa.a.aa-...  fqdn_12394\n",
       "949          0  aaaaaaa[aaaaaa][aaaaaa][aaaaaa][aaaa]aaa.a.aa-...  fqdn_10517\n",
       "950          0  aaaaaaa[aaaaaa][aaaaaa][aaaaaa][aaaa]aaa.a.aa-...  fqdn_13050\n",
       "951          0  aaaaaaa[aaaaaa][aaaaaa][aaaaaa]aaaaa0a.a.aa-aa...   fqdn_4139\n",
       "\n",
       "[952 rows x 3 columns]"
      ]
     },
     "execution_count": 1,
     "metadata": {},
     "output_type": "execute_result"
    }
   ],
   "source": [
    "import pandas as pd\n",
    "pd.read_csv(r'D:\\Project\\Python\\PUMD-Malicious_Domain_Detection_Model\\Label\\label.csv')"
   ]
  },
  {
   "cell_type": "markdown",
   "metadata": {},
   "source": [
    "## 2. 恶意域家族分布"
   ]
  },
  {
   "cell_type": "markdown",
   "metadata": {},
   "source": [
    "![title](img/PieChart.png)"
   ]
  },
  {
   "cell_type": "markdown",
   "metadata": {},
   "source": [
    "## 3. 多个恶意家族每日的域名活动情况。"
   ]
  },
  {
   "cell_type": "markdown",
   "metadata": {},
   "source": [
    "![title](img/Malicious-Domain-Family-Activity.jpg)"
   ]
  }
 ],
 "metadata": {
  "kernelspec": {
   "display_name": "pu",
   "language": "python",
   "name": "pu_learning"
  },
  "language_info": {
   "codemirror_mode": {
    "name": "ipython",
    "version": 3
   },
   "file_extension": ".py",
   "mimetype": "text/x-python",
   "name": "python",
   "nbconvert_exporter": "python",
   "pygments_lexer": "ipython3",
   "version": "3.6.2"
  }
 },
 "nbformat": 4,
 "nbformat_minor": 4
}
